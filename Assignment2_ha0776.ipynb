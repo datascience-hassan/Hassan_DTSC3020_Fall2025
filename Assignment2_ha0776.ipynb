{
 "cells": [
  {
   "cell_type": "code",
   "execution_count": 2,
   "id": "aaaa5814",
   "metadata": {},
   "outputs": [
    {
     "name": "stdout",
     "output_type": "stream",
     "text": [
      "['pizza', 'pasta', 'salad']\n",
      "pizza\n",
      "pasta\n",
      "salad\n"
     ]
    }
   ],
   "source": [
    "# create a list with three food \n",
    "food = ['pizza', 'pasta', 'salad']\n",
    "# print the entire list \n",
    "print(food)\n",
    "#print each item separately\n",
    "print(food[0])\n",
    "print(food[1])  \n",
    "print(food[2])\n",
    "\n"
   ]
  },
  {
   "cell_type": "code",
   "execution_count": 3,
   "id": "5fd3f42d",
   "metadata": {},
   "outputs": [
    {
     "name": "stdout",
     "output_type": "stream",
     "text": [
      "['Hassan', 'Bob', 'Charlie']\n"
     ]
    }
   ],
   "source": [
    "#list with names\n",
    "names = ['Alice', 'Bob', 'Charlie']\n",
    "names[0] = \"Hassan\" #change the first name\n",
    "print(names)"
   ]
  },
  {
   "cell_type": "code",
   "execution_count": 4,
   "id": "9f40d095",
   "metadata": {},
   "outputs": [
    {
     "name": "stdout",
     "output_type": "stream",
     "text": [
      "['pizza', 'pasta', 'salad', 'burger', 'taco']\n"
     ]
    }
   ],
   "source": [
    "#list with 6 food\n",
    "food = ['pizza', 'pasta', 'salad', 'burger', 'sushi', 'taco']\n",
    "food.remove('sushi') #remove sushi from the list\n",
    "print(food)"
   ]
  },
  {
   "cell_type": "code",
   "execution_count": null,
   "id": "14e388ba",
   "metadata": {},
   "outputs": [
    {
     "name": "stdout",
     "output_type": "stream",
     "text": [
      "['Chicago', 'Houston', 'Los Angeles', 'New York']\n",
      "['New York', 'Los Angeles', 'Houston', 'Chicago']\n"
     ]
    }
   ],
   "source": [
    "#list with 4 cities \n",
    "cities = ['New York', 'Los Angeles', 'Chicago', 'Houston']\n",
    "cities.sort()   #sort the list in alphabetical order\n",
    "print(cities) \n",
    "cities.reverse() #reverse the order of the list\n",
    "print(cities)"
   ]
  },
  {
   "cell_type": "code",
   "execution_count": 8,
   "id": "3a1d9d5a",
   "metadata": {},
   "outputs": [
    {
     "name": "stdout",
     "output_type": "stream",
     "text": [
      "cat\n",
      "dog\n",
      "rabbit\n"
     ]
    }
   ],
   "source": [
    "#list with three animals \n",
    "animals = ['cat', 'dog', 'rabbit']\n",
    "for animal in animals:  #loop through the list and print each animal\n",
    "    print(animal)"
   ]
  },
  {
   "cell_type": "code",
   "execution_count": null,
   "id": "ba6c2172",
   "metadata": {},
   "outputs": [
    {
     "name": "stdout",
     "output_type": "stream",
     "text": [
      "[2, 4, 6, 8, 10, 12]\n"
     ]
    }
   ],
   "source": [
    "# comprehension to multiply by 2\n",
    "numbers = [x * 2 for x in range(1, 7)]\n",
    "print(numbers)"
   ]
  },
  {
   "cell_type": "code",
   "execution_count": 11,
   "id": "93084776",
   "metadata": {},
   "outputs": [
    {
     "name": "stdout",
     "output_type": "stream",
     "text": [
      "[1, 2, 3, 4, 5, 6, 7, 8, 9, 10]\n"
     ]
    }
   ],
   "source": [
    "# use range to create a list of numbers from 1 to 10\n",
    "numbers = list(range(1, 11))\n",
    "print(numbers)"
   ]
  },
  {
   "cell_type": "code",
   "execution_count": 12,
   "id": "ea70613d",
   "metadata": {},
   "outputs": [
    {
     "name": "stdout",
     "output_type": "stream",
     "text": [
      "[1, 4, 9, 16, 25]\n"
     ]
    }
   ],
   "source": [
    "squares = [x**2 for x in range(1, 6)]\n",
    "print(squares)"
   ]
  }
 ],
 "metadata": {
  "kernelspec": {
   "display_name": "base",
   "language": "python",
   "name": "python3"
  },
  "language_info": {
   "codemirror_mode": {
    "name": "ipython",
    "version": 3
   },
   "file_extension": ".py",
   "mimetype": "text/x-python",
   "name": "python",
   "nbconvert_exporter": "python",
   "pygments_lexer": "ipython3",
   "version": "3.13.5"
  }
 },
 "nbformat": 4,
 "nbformat_minor": 5
}
