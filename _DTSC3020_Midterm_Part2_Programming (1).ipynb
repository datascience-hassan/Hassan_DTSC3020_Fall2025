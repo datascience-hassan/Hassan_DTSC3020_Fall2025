{
  "cells": [
    {
      "cell_type": "markdown",
      "id": "8e58db4f",
      "metadata": {
        "id": "8e58db4f"
      },
      "source": [
        "# DTSC 3020 — Midterm Exam (Part 2: Programming)\n",
        "\n",
        "University of North Texas\n",
        "\n",
        "**Course:** Introduction to Computation with Python (DTSC 3020)  \n",
        "**Exam:** Midterm — Programming (Ch. 1–8 concepts)\n"
      ]
    },
    {
      "cell_type": "markdown",
      "id": "ed86aaec",
      "metadata": {
        "id": "ed86aaec"
      },
      "source": [
        "---\n",
        "### Instructions\n",
        "- Write clean, readable Python code for each question.\n",
        "- Use only standard Python; no external libraries.\n",
        "- Where required, write a function and return the result.\n",
        "- After each solution cell, there is a **Part 2 — Test Scenario**. Follow the prompt to run your code.\n",
        "---\n"
      ]
    },
    {
      "cell_type": "markdown",
      "id": "227c4435",
      "metadata": {
        "id": "227c4435"
      },
      "source": [
        "## Question 1 — Create Member ID\n",
        "\n",
        "Write a Python function `create_member_id(full_name)` that creates a Library Member ID from a person’s full name.\n",
        "\n",
        "**Rules**\n",
        "\n",
        "- Normalize the name: remove extra spaces, convert to lowercase, and split by spaces.\n",
        "- Use the last word as the last name (e.g., `\"John Ronald Reuel Tolkien\"` → last name `tolkien`).\n",
        "- Use the first letters of all earlier words as initials (e.g., `jrr` for the example above).\n",
        "- Construct the member ID in this exact format: `lastname_initials` (underscore between them; no spaces).\n",
        "\n",
        "**Examples**\n",
        "\n",
        "- `\"Sara Amini\"` → `amini_sa`\n",
        "- `\"Mary Jane Watson\"` → `watson_mj`\n",
        "- `\"LINA\"` (single word) → use the word for both parts: `lina_l`\n",
        "\n",
        "Part 2 — Test Scenario (run using your function)\n",
        "names = [\"Sara Amini\", \"Ali\", \"Mary Jane\", \"John Smith\", \"LINA\", \"madonna\", \"sara amini\"]\n"
      ]
    },
    {
      "cell_type": "code",
      "execution_count": 9,
      "id": "51411a35",
      "metadata": {
        "id": "51411a35"
      },
      "outputs": [
        {
          "name": "stdout",
          "output_type": "stream",
          "text": [
            "Sara Amini , amini_s\n",
            "Ali , ali_\n",
            "Mary Jane , jane_m\n",
            "John Smith , smith_j\n",
            "Lina , lina_\n",
            "Madonna , madonna_\n",
            "Sara Amini , amini_s\n"
          ]
        }
      ],
      "source": [
        "def create_member_id(full_name):\n",
        "    # Normalize the name\n",
        "    name_parts = full_name.strip().lower().split()\n",
        "    last_name = name_parts[-1]\n",
        "    initials = ''.join(part[0] for part in name_parts[:-1])\n",
        "    member_id = f\"{last_name}_{initials}\"\n",
        "    return member_id \n",
        "\n",
        "\n",
        "test_names = ['Sara Amini', 'Ali', 'Mary Jane', 'John Smith', 'Lina', 'Madonna', 'Sara Amini'] \n",
        "# full_names using this functions \n",
        "for name in test_names:\n",
        "    print(f\"{name} , {create_member_id(name)}\")\n",
        "\n",
        "\n",
        "\n",
        "\n",
        "    \n",
        "    \n",
        "    \n",
        "\n",
        "\n",
        "\n",
        "\n"
      ]
    },
    {
      "cell_type": "markdown",
      "id": "c1727720",
      "metadata": {
        "id": "c1727720"
      },
      "source": [
        "## Question 2 — Movie Ticket Booth\n",
        "\n",
        "Write a Python program that simulates a movie ticket booth using this price list:\n",
        "\n",
        "```python\n",
        "prices = {\"adult\": 12.5, \"child\": 8, \"senior\": 9.5, \"student\": 10}\n",
        "```\n",
        "\n",
        "**Program Requirements**\n",
        "\n",
        "- Repeatedly ask the user to enter a ticket type or type `done` to finish.\n",
        "- Valid inputs: `adult`, `child`, `senior`, `student`, or `done`.\n",
        "- If the ticket type exists, add its price to a running total and print a confirmation message.\n",
        "- If it doesn’t exist, print `\"Invalid ticket type\"`.\n",
        "- When the user types `done`, stop and show:\n",
        "  - **Subtotal** (sum of valid ticket prices)\n",
        "  - **Tax** = 8% of subtotal\n",
        "  - **Final total** = subtotal + tax\n"
      ]
    },
    {
      "cell_type": "code",
      "execution_count": 16,
      "id": "4b859e17",
      "metadata": {
        "id": "4b859e17"
      },
      "outputs": [
        {
          "name": "stdout",
          "output_type": "stream",
          "text": [
            "Added adult ticket: $12.50. Current total: $12.50\n",
            "Added child ticket: $8.00. Current total: $20.50\n",
            "Added child ticket: $8.00. Current total: $28.50\n",
            "Subtotal: $28.50\n",
            "Tax: $2.00\n",
            "Total amount due: $30.50\n"
          ]
        }
      ],
      "source": [
        "\n",
        "total = 0\n",
        "prices = {\n",
        "    'child': 8,\n",
        "    'adult': 12.5,\n",
        "    'senior': 9.5,\n",
        "    'student': 10\n",
        "}\n",
        "while True:\n",
        "    ticket_type = input(\"Enter ticket type (adult, child, senior, student) or 'done' to finish: \").strip().lower()\n",
        "    if ticket_type == 'done':\n",
        "        break\n",
        "    elif ticket_type in prices:\n",
        "        total += prices[ticket_type]\n",
        "        print(f\"Added {ticket_type} ticket: ${prices[ticket_type]:.2f}. Current total: ${total:.2f}\")\n",
        "    else:\n",
        "        print(\"Invalid ticket type.\")\n",
        "        \n",
        "        # display subtotal\n",
        "print(f\"Subtotal: ${total:.2f}\")\n",
        "tax_rate = 0.07\n",
        "tax = total * tax_rate\n",
        "print(f\"Tax: ${tax:.2f}\")\n",
        "grand_total = total + tax\n",
        "print(f\"Total amount due: ${grand_total:.2f}\")\n",
        "\n",
        "\n"
      ]
    },
    {
      "cell_type": "markdown",
      "id": "17b39afe",
      "metadata": {
        "id": "17b39afe"
      },
      "source": [
        "**Part 2 — Example Scenario**\n",
        "When prompted, type the following (each on a new line), then press Enter after each entry:\n",
        "\n",
        "```\n",
        "adult\n",
        "child\n",
        "student\n",
        "done\n",
        "```\n",
        "\n",
        "Your program should complete and display the subtotal, tax, and final total based on these entries.\n"
      ]
    },
    {
      "cell_type": "markdown",
      "id": "28c710b6",
      "metadata": {
        "id": "28c710b6"
      },
      "source": [
        "## Question 3 — Student Grade Analyzer\n",
        "\n",
        "Write a Python function `analyze_grades(grades)` that takes a list of numbers (0–100) and returns three values:\n",
        "\n",
        "1. average grade\n",
        "2. highest grade\n",
        "3. lowest grade\n",
        "\n",
        "**Constraints**\n",
        "\n",
        "- Use a function and return statement(s).\n",
        "- Do not use external libraries.\n"
      ]
    },
    {
      "cell_type": "code",
      "execution_count": 15,
      "id": "efce3052",
      "metadata": {
        "id": "efce3052"
      },
      "outputs": [
        {
          "name": "stdout",
          "output_type": "stream",
          "text": [
            "Average: 86.6, Highest: 92, Lowest: 78\n"
          ]
        }
      ],
      "source": [
        "\n",
        "\n",
        "def analyze_grades(grades):\n",
        "     if not grades:\n",
        "          return 0, None, None\n",
        "     average = sum(grades) / len(grades)\n",
        "     highest = max(grades)\n",
        "     lowest = min(grades)\n",
        "     return average, highest, lowest\n",
        "\n",
        "\n",
        "analyze = [85, 92, 78, 90, 88]\n",
        "average, highest, lowest = analyze_grades(analyze)\n",
        "print(f\"Average: {average}, Highest: {highest}, Lowest: {lowest}\")\n"
      ]
    },
    {
      "cell_type": "code",
      "execution_count": null,
      "id": "ad2b0d29",
      "metadata": {
        "id": "ad2b0d29"
      },
      "outputs": [],
      "source": [
        "# Part 2 — Test Scenario\n",
        "sample = [88, 92, 79, 93, 85, 90, 72]\n"
      ]
    },
    {
      "cell_type": "markdown",
      "id": "d378f3c3",
      "metadata": {
        "id": "d378f3c3"
      },
      "source": [
        "## Question 4 — PIN Verification\n",
        "\n",
        "Write a Python program that simulates an ATM PIN verification system.\n",
        "\n",
        "**Requirements**\n",
        "\n",
        "- The correct PIN is `4321`.\n",
        "- The user has at most **3 attempts** to enter the correct PIN.\n",
        "- If the PIN is correct: print `Access granted.` and stop.\n",
        "- If all 3 attempts fail: print `Card blocked.`\n",
        "- After each wrong attempt, also print the counter in the form `Wrong (x/3)`.\n"
      ]
    },
    {
      "cell_type": "code",
      "execution_count": 14,
      "id": "5ea085a2",
      "metadata": {
        "id": "5ea085a2"
      },
      "outputs": [
        {
          "name": "stdout",
          "output_type": "stream",
          "text": [
            "Wrong PIN (1/3)\n",
            "Wrong PIN (2/3)\n",
            "Access granted\n"
          ]
        }
      ],
      "source": [
        "\n",
        "correct_pin = \"4321\"\n",
        "attempts = 0\n",
        "max_attempts = 3\n",
        "while attempts < max_attempts:\n",
        "    entered_pin = input(\"Enter your 4-digit PIN: \")\n",
        "    if entered_pin == correct_pin:\n",
        "        print(\"Access granted\")\n",
        "        break\n",
        "    else:\n",
        "        attempts += 1\n",
        "        if attempts < max_attempts:\n",
        "            print(f\"Wrong PIN ({attempts}/{max_attempts})\")\n",
        "        else:\n",
        "            print(\"Card blocked\")\n",
        "            \n"
      ]
    },
    {
      "cell_type": "markdown",
      "id": "1c61e343",
      "metadata": {
        "id": "1c61e343"
      },
      "source": [
        "**Part 2 — Test Scenario**\n",
        "Run your program and, when prompted, enter these sequences to verify both behaviors:\n",
        "\n",
        "**Scenario A**\n",
        "\n",
        "```\n",
        "1111\n",
        "2222\n",
        "4321\n",
        "```\n"
      ]
    }
  ],
  "metadata": {
    "colab": {
      "provenance": []
    },
    "kernelspec": {
      "display_name": "base",
      "language": "python",
      "name": "python3"
    },
    "language_info": {
      "codemirror_mode": {
        "name": "ipython",
        "version": 3
      },
      "file_extension": ".py",
      "mimetype": "text/x-python",
      "name": "python",
      "nbconvert_exporter": "python",
      "pygments_lexer": "ipython3",
      "version": "3.13.5"
    }
  },
  "nbformat": 4,
  "nbformat_minor": 5
}
