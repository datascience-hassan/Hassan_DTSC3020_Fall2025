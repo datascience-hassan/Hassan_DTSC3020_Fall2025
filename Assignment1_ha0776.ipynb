{
 "cells": [
  {
   "cell_type": "code",
   "execution_count": null,
   "id": "67eeb831",
   "metadata": {},
   "outputs": [
    {
     "name": "stdout",
     "output_type": "stream",
     "text": [
      "Hello, Hassan Abdule!\n",
      "Welcome to University Of North Texas.\n",
      "I'm really excited to be here!\n"
     ]
    }
   ],
   "source": [
    "name = \"Hassan\"\n",
    "Last_name = \"Abdule\"\n",
    "school = \"University of North Texas\"\n",
    "print(f\"Hello, {name.title()} {Last_name.title()}!\\nWelcome to {school.title().rstrip()}.\") \n",
    "print(f\"I'm really excited to be here!\")\n"
   ]
  }
 ],
 "metadata": {
  "kernelspec": {
   "display_name": "base",
   "language": "python",
   "name": "python3"
  },
  "language_info": {
   "codemirror_mode": {
    "name": "ipython",
    "version": 3
   },
   "file_extension": ".py",
   "mimetype": "text/x-python",
   "name": "python",
   "nbconvert_exporter": "python",
   "pygments_lexer": "ipython3",
   "version": "3.13.5"
  }
 },
 "nbformat": 4,
 "nbformat_minor": 5
}
