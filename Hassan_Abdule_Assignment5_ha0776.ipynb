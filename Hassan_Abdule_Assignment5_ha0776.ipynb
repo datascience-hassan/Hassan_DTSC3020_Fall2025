{
  "cells": [
    {
      "cell_type": "markdown",
      "id": "9903d230",
      "metadata": {
        "id": "9903d230"
      },
      "source": [
        "# Assignment5: CRM Cleanup @ **DalaShop**\n",
        "\n",
        "_Files (Ch.10), Exceptions (Ch.10), Unit Tests (Ch.11), and Regular Expressions_  \n",
        ".....\n",
        "\n",
        "**Total: 3 points** (Two questions, 1.5 pts each)\n",
        "\n",
        "> This assignment is scenario-based and aligned with Python Crash Course Ch.10 (files & exceptions), Ch.11 (unit testing with `unittest`), and Regular Expressions.\n"
      ]
    },
    {
      "cell_type": "markdown",
      "id": "d6487401",
      "metadata": {
        "id": "d6487401"
      },
      "source": [
        "## Scenario\n",
        "\n",
        "You are a data intern at an online retailer called **DalaShop**.  \n",
        "Sales exported a **raw contacts** file from the CRM. It contains customer names, emails, and phone numbers, but the formatting is messy and some emails are invalid.  \n",
        "Your tasks:\n",
        "\n",
        "1. **Clean** the contacts (Files + Exceptions + Regex).\n",
        "2. **Write unit tests** to make sure your helper functions work correctly and keep working in the future.\n"
      ]
    },
    {
      "cell_type": "markdown",
      "id": "0bd1712f",
      "metadata": {
        "id": "0bd1712f"
      },
      "source": [
        "## Data file (given by the company): `contacts_raw.txt`\n",
        "\n",
        "Use this exact sample data (you may extend it for your own testing, but do **not** change it when submitting).  \n",
        "Run the next cell once to create the file beside your notebook.\n"
      ]
    },
    {
      "cell_type": "code",
      "execution_count": 12,
      "id": "c395a1a8",
      "metadata": {
        "id": "c395a1a8"
      },
      "outputs": [
        {
          "name": "stdout",
          "output_type": "stream",
          "text": [
            "Wrote contacts_raw.txt with sample DalaShop data.\n"
          ]
        }
      ],
      "source": [
        "# Create the provided company dataset file\n",
        "with open(\"contacts_raw.txt\", \"w\", encoding=\"utf-8\") as f:\n",
        "    f.write('Alice Johnson <alice@example.com> , +1 (469) 555-1234\\nBob Roberts <bob[at]example.com> , 972-555-777\\nSara M. , sara@mail.co , 214 555 8888\\n\"Mehdi A.\" <mehdi.ay@example.org> , (469)555-9999\\nDelaram <delaram@example.io>, +1-972-777-2121\\nNima <NIMA@example.io> , 972.777.2121\\nduplicate <Alice@Example.com> , 469 555 1234')\n",
        "print(\"Wrote contacts_raw.txt with sample DalaShop data.\")"
      ]
    },
    {
      "cell_type": "markdown",
      "id": "1b535f73",
      "metadata": {
        "id": "1b535f73"
      },
      "source": [
        "## Q1 (1.5 pts) — CRM cleanup with Files, Exceptions, and Regex\n",
        "\n",
        "Implement `q1_crm_cleanup.py` to:\n",
        "\n",
        "1. **Read** `contacts_raw.txt` using `pathlib` and `with`. If the file is missing, **handle** it gracefully with `try/except FileNotFoundError` (print a friendly message; do not crash).\n",
        "2. **Validate emails** with a simple regex (`r\"[A-Za-z0-9._%+-]+@[A-Za-z0-9.-]+\\.[A-Za-z]{2,}\"`).\n",
        "   - Trim whitespace with `strip()` before checking.\n",
        "   - Use **full** matching (not partial).\n",
        "3. **Normalize phone numbers:** remove all non-digits (e.g., with `re.sub(r\"\\D\", \"\", raw)`).\n",
        "   - If the result has **≥ 10 digits**, keep the **last 10 digits**.\n",
        "   - Otherwise, return an **empty string** (`\"\"`).\n",
        "4. **Filter rows:** keep **only** rows with a valid email.\n",
        "5. **Deduplicate:** remove duplicates by **email** using **case-insensitive** comparison (e.g., `email.casefold()`). **Keep the first occurrence** and drop later duplicates.\n",
        "6. **Output CSV:** write to `contacts_clean.csv` with **columns exactly** `name,email,phone` (UTF-8).\n",
        "7. **Preserve input order:** the order of rows in `contacts_clean.csv` must match the **first appearance** order from the input file. **Do not sort** the rows.\n",
        "\n",
        "**Grading rubric (1.5 pts):**\n",
        "\n",
        "- (0.4) File read/write via `pathlib` + graceful `FileNotFoundError` handling\n",
        "- (0.5) Correct email regex validation + filtering\n",
        "- (0.4) Phone normalization + case-insensitive de-dup (keep first)\n",
        "- (0.2) Clean code, clear names, minimal docstrings/comments\n"
      ]
    },
    {
      "cell_type": "code",
      "execution_count": 13,
      "id": "gO9xaHmKNlax",
      "metadata": {
        "id": "gO9xaHmKNlax"
      },
      "outputs": [
        {
          "data": {
            "text/plain": [
              "[{'name': 'Alice Johnson',\n",
              "  'email': 'alice@example.com',\n",
              "  'phone': '4695551234'},\n",
              " {'name': 'Sara M.', 'email': 'sara@mail.co', 'phone': '2145558888'},\n",
              " {'name': 'Mehdi A.', 'email': 'mehdi.ay@example.org', 'phone': '4695559999'},\n",
              " {'name': 'Delaram', 'email': 'delaram@example.io', 'phone': '9727772121'},\n",
              " {'name': 'Nima', 'email': 'NIMA@example.io', 'phone': '9727772121'}]"
            ]
          },
          "execution_count": 13,
          "metadata": {},
          "output_type": "execute_result"
        }
      ],
      "source": [
        "import re\n",
        "import csv\n",
        "from pathlib import Path\n",
        "\n",
        "# 1) email regex from instructions\n",
        "EMAIL_RE = re.compile(r\"[A-Za-z0-9._%+-]+@[A-Za-z0-9.-]+\\.[A-Za-z]{2,}\")\n",
        "\n",
        "def validate_email(raw: str):\n",
        "    \"\"\"Return cleaned email if valid, else None.\"\"\"\n",
        "    if not raw:\n",
        "        return None\n",
        "    email = raw.strip()\n",
        "    return email if EMAIL_RE.fullmatch(email) else None\n",
        "\n",
        "def normalize_phone(raw: str):\n",
        "    \"\"\"Remove non-digits; if >=10 keep last 10, else ''. \"\"\"\n",
        "    if not raw:\n",
        "        return \"\"\n",
        "    digits = re.sub(r\"\\D\", \"\", raw)\n",
        "    if len(digits) < 10:\n",
        "        return \"\"\n",
        "    return digits[-10:]\n",
        "\n",
        "def deduplicate_contacts(rows):\n",
        "    \"\"\"Case-insensitive dedup by email, keep first, preserve order.\"\"\"\n",
        "    seen = set()\n",
        "    result = []\n",
        "    for row in rows:\n",
        "        key = row[\"email\"].casefold()\n",
        "        if key in seen:\n",
        "            continue\n",
        "        seen.add(key)\n",
        "        result.append(row)\n",
        "    return result\n",
        "\n",
        "def parse_contacts_from_string(text: str):\n",
        "    \"\"\"\n",
        "    Handles BOTH:\n",
        "      - 'Name, email, phone'\n",
        "      - 'Name <email> , phone'\n",
        "    Drops rows with invalid email.\n",
        "    \"\"\"\n",
        "    lines = [ln.strip() for ln in text.splitlines() if ln.strip()]\n",
        "    rows = []\n",
        "\n",
        "    for line in lines:\n",
        "        # split into at most 3 parts\n",
        "        parts = [p.strip() for p in line.split(\",\", maxsplit=2)]\n",
        "        if not parts:\n",
        "            continue\n",
        "\n",
        "        name_part = parts[0]\n",
        "        email_part = parts[1] if len(parts) > 1 else \"\"\n",
        "        phone_part = parts[2] if len(parts) > 2 else \"\"\n",
        "\n",
        "        # case: name contains <email>\n",
        "        extracted_email = None\n",
        "        extracted_name = name_part\n",
        "        if \"<\" in name_part and \">\" in name_part:\n",
        "            inside = name_part[name_part.find(\"<\")+1 : name_part.find(\">\")]\n",
        "            maybe_email = validate_email(inside)\n",
        "            if maybe_email:\n",
        "                extracted_email = maybe_email\n",
        "                extracted_name = name_part[: name_part.find(\"<\")].strip().strip('\"')\n",
        "\n",
        "        if extracted_email:\n",
        "            email = extracted_email\n",
        "            # in given sample, after the name-with-email, the next part is the phone\n",
        "            phone_raw = phone_part if phone_part else email_part\n",
        "        else:\n",
        "            # normal: name, email, phone\n",
        "            email = validate_email(email_part)\n",
        "            phone_raw = phone_part\n",
        "\n",
        "        if not email:\n",
        "            # skip rows with bad email\n",
        "            continue\n",
        "\n",
        "        phone = normalize_phone(phone_raw)\n",
        "        rows.append({\n",
        "            \"name\": extracted_name,\n",
        "            \"email\": email,\n",
        "            \"phone\": phone,\n",
        "        })\n",
        "\n",
        "    return deduplicate_contacts(rows)\n",
        "\n",
        "def parse_contacts_from_file(path_str: str):\n",
        "    \"\"\"Read contacts_raw.txt with pathlib + with; handle missing file.\"\"\"\n",
        "    path = Path(path_str)\n",
        "    try:\n",
        "        with path.open(\"r\", encoding=\"utf-8\") as f:\n",
        "            text = f.read()\n",
        "    except FileNotFoundError:\n",
        "        print(f\"File not found: {path}\")\n",
        "        return []\n",
        "    return parse_contacts_from_string(text)\n",
        "\n",
        "def write_contacts_csv(rows, path_str: str):\n",
        "    \"\"\"Write to contacts_clean.csv with columns exactly name,email,phone.\"\"\"\n",
        "    path = Path(path_str)\n",
        "    with path.open(\"w\", encoding=\"utf-8\", newline=\"\") as f:\n",
        "        writer = csv.writer(f)\n",
        "        writer.writerow([\"name\", \"email\", \"phone\"])\n",
        "        for row in rows:\n",
        "            writer.writerow([row[\"name\"], row[\"email\"], row[\"phone\"]])\n",
        "\n",
        "# run Q1 pipeline\n",
        "cleaned = parse_contacts_from_file(\"contacts_raw.txt\")\n",
        "write_contacts_csv(cleaned, \"contacts_clean.csv\")\n",
        "cleaned\n",
        "\n"
      ]
    },
    {
      "cell_type": "markdown",
      "id": "258c5b04",
      "metadata": {
        "id": "258c5b04"
      },
      "source": [
        "## Q2 (1.5 pts) — Unit testing with `unittest`\n",
        "\n",
        "Create tests in `test_crm_cleanup.py` that cover at least:\n",
        "\n",
        "1. **Email validation**: valid/invalid variations.\n",
        "2. **Phone normalization**: parentheses, dashes, spaces, country code; too-short cases.\n",
        "3. **Parsing**: from a small multi-line string (not from a file), assert the exact structured rows (name/email/phone).\n",
        "4. **De-duplication**: demonstrate that a case-variant duplicate email is dropped (first occurrence kept).\n"
      ]
    },
    {
      "cell_type": "code",
      "execution_count": 14,
      "id": "_M18cJw2NqZm",
      "metadata": {
        "id": "_M18cJw2NqZm"
      },
      "outputs": [
        {
          "name": "stderr",
          "output_type": "stream",
          "text": [
            "....\n",
            "----------------------------------------------------------------------\n",
            "Ran 4 tests in 0.002s\n",
            "\n",
            "OK\n"
          ]
        },
        {
          "data": {
            "text/plain": [
              "<unittest.runner.TextTestResult run=4 errors=0 failures=0>"
            ]
          },
          "execution_count": 14,
          "metadata": {},
          "output_type": "execute_result"
        }
      ],
      "source": [
        "import unittest\n",
        "\n",
        "class TestCrmCleanup(unittest.TestCase):\n",
        "    def test_email_validation(self):\n",
        "        self.assertEqual(validate_email(\"test@example.com\"), \"test@example.com\")\n",
        "        self.assertEqual(validate_email(\" user+tag@domain.co.uk \"), \"user+tag@domain.co.uk\")\n",
        "        self.assertIsNone(validate_email(\"bad-email\"))\n",
        "        self.assertIsNone(validate_email(\"user@domain\"))\n",
        "        self.assertIsNone(validate_email(\"user@domain.c\"))\n",
        "        self.assertIsNone(validate_email(\"user@domain.com extra\"))\n",
        "\n",
        "    def test_phone_normalization(self):\n",
        "        self.assertEqual(normalize_phone(\"(214) 555-1212\"), \"2145551212\")\n",
        "        self.assertEqual(normalize_phone(\"214-555-1212\"), \"2145551212\")\n",
        "        self.assertEqual(normalize_phone(\"214 555 1212\"), \"2145551212\")\n",
        "        self.assertEqual(normalize_phone(\"+1 (214) 555-1212\"), \"2145551212\")\n",
        "        self.assertEqual(normalize_phone(\"001-214-555-1212\"), \"2145551212\")\n",
        "        self.assertEqual(normalize_phone(\"123456789\"), \"\")\n",
        "        self.assertEqual(normalize_phone(\"\"), \"\")\n",
        "\n",
        "    def test_parsing_from_string(self):\n",
        "        text = (\n",
        "            \"Alice, alice@example.com, (214) 555-1212\\n\"\n",
        "            \"Bob, bob@example.com, 972-777-8888\\n\"\n",
        "            \"Bad, bad-email, 111-222-3333\\n\"\n",
        "        )\n",
        "        rows = parse_contacts_from_string(text)\n",
        "        expected = [\n",
        "            {\"name\": \"Alice\", \"email\": \"alice@example.com\", \"phone\": \"2145551212\"},\n",
        "            {\"name\": \"Bob\", \"email\": \"bob@example.com\", \"phone\": \"9727778888\"},\n",
        "        ]\n",
        "        self.assertEqual(rows, expected)\n",
        "\n",
        "    def test_deduplication_case_insensitive(self):\n",
        "        rows = [\n",
        "            {\"name\": \"Sam\", \"email\": \"sam@example.com\", \"phone\": \"2145551212\"},\n",
        "            {\"name\": \"SAM DUP\", \"email\": \"SAM@example.com\", \"phone\": \"9727778888\"},\n",
        "            {\"name\": \"Other\", \"email\": \"other@example.com\", \"phone\": \"4690001111\"},\n",
        "        ]\n",
        "        deduped = deduplicate_contacts(rows)\n",
        "        self.assertEqual(len(deduped), 2)\n",
        "        emails = [r[\"email\"] for r in deduped]\n",
        "        self.assertIn(\"sam@example.com\", emails)\n",
        "        self.assertIn(\"other@example.com\", emails)\n",
        "        self.assertNotIn(\"SAM@example.com\", emails)\n",
        "\n",
        "suite = unittest.TestLoader().loadTestsFromTestCase(TestCrmCleanup)\n",
        "unittest.TextTestRunner().run(suite)\n",
        "\n"
      ]
    },
    {
      "cell_type": "markdown",
      "id": "f38af38b",
      "metadata": {
        "id": "f38af38b"
      },
      "source": [
        "## Grading rubric (total 3 pts)\n",
        "\n",
        "- **Q1 (1.5 pts)**\n",
        "  - (0.4) File I/O with `pathlib` + graceful `FileNotFoundError` handling\n",
        "  - (0.5) Email validation (regex + strip + full match) and filtering\n",
        "  - (0.4) Phone normalization and **case-insensitive** de-duplication (keep first)\n",
        "  - (0.2) Code clarity (names, minimal docstrings/comments)\n",
        "- **Q2 (1.5 pts)**\n",
        "  - (0.6) Meaningful coverage for email/phone functions (valid & invalid)\n",
        "  - (0.6) Parsing & de-dup tests that assert exact expected rows\n",
        "  - (0.3) Standard `unittest` structure and readable test names\n"
      ]
    }
  ],
  "metadata": {
    "colab": {
      "provenance": []
    },
    "kernelspec": {
      "display_name": "base",
      "language": "python",
      "name": "python3"
    },
    "language_info": {
      "codemirror_mode": {
        "name": "ipython",
        "version": 3
      },
      "file_extension": ".py",
      "mimetype": "text/x-python",
      "name": "python",
      "nbconvert_exporter": "python",
      "pygments_lexer": "ipython3",
      "version": "3.13.5"
    }
  },
  "nbformat": 4,
  "nbformat_minor": 5
}
