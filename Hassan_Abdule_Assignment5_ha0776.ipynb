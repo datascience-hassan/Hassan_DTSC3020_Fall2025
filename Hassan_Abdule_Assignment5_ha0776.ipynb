{
  "cells": [
    {
      "cell_type": "markdown",
      "id": "9903d230",
      "metadata": {
        "id": "9903d230"
      },
      "source": [
        "# Assignment5: CRM Cleanup @ **DalaShop**\n",
        "\n",
        "_Files (Ch.10), Exceptions (Ch.10), Unit Tests (Ch.11), and Regular Expressions_  \n",
        ".....\n",
        "\n",
        "**Total: 3 points** (Two questions, 1.5 pts each)\n",
        "\n",
        "> This assignment is scenario-based and aligned with Python Crash Course Ch.10 (files & exceptions), Ch.11 (unit testing with `unittest`), and Regular Expressions.\n"
      ]
    },
    {
      "cell_type": "markdown",
      "id": "d6487401",
      "metadata": {
        "id": "d6487401"
      },
      "source": [
        "## Scenario\n",
        "\n",
        "You are a data intern at an online retailer called **DalaShop**.  \n",
        "Sales exported a **raw contacts** file from the CRM. It contains customer names, emails, and phone numbers, but the formatting is messy and some emails are invalid.  \n",
        "Your tasks:\n",
        "\n",
        "1. **Clean** the contacts (Files + Exceptions + Regex).\n",
        "2. **Write unit tests** to make sure your helper functions work correctly and keep working in the future.\n"
      ]
    },
    {
      "cell_type": "markdown",
      "id": "0bd1712f",
      "metadata": {
        "id": "0bd1712f"
      },
      "source": [
        "## Data file (given by the company): `contacts_raw.txt`\n",
        "\n",
        "Use this exact sample data (you may extend it for your own testing, but do **not** change it when submitting).  \n",
        "Run the next cell once to create the file beside your notebook.\n"
      ]
    },
    {
      "cell_type": "code",
      "execution_count": null,
      "id": "c395a1a8",
      "metadata": {
        "id": "c395a1a8"
      },
      "outputs": [],
      "source": [
        "# Create the provided company dataset file\n",
        "with open(\"contacts_raw.txt\", \"w\", encoding=\"utf-8\") as f:\n",
        "    f.write('Alice Johnson <alice@example.com> , +1 (469) 555-1234\\nBob Roberts <bob[at]example.com> , 972-555-777\\nSara M. , sara@mail.co , 214 555 8888\\n\"Mehdi A.\" <mehdi.ay@example.org> , (469)555-9999\\nDelaram <delaram@example.io>, +1-972-777-2121\\nNima <NIMA@example.io> , 972.777.2121\\nduplicate <Alice@Example.com> , 469 555 1234')\n",
        "print(\"Wrote contacts_raw.txt with sample DalaShop data.\")"
      ]
    },
    {
      "cell_type": "markdown",
      "id": "1b535f73",
      "metadata": {
        "id": "1b535f73"
      },
      "source": [
        "## Q1 (1.5 pts) — CRM cleanup with Files, Exceptions, and Regex\n",
        "\n",
        "Implement `q1_crm_cleanup.py` to:\n",
        "\n",
        "1. **Read** `contacts_raw.txt` using `pathlib` and `with`. If the file is missing, **handle** it gracefully with `try/except FileNotFoundError` (print a friendly message; do not crash).\n",
        "2. **Validate emails** with a simple regex (`r\"[A-Za-z0-9._%+-]+@[A-Za-z0-9.-]+\\.[A-Za-z]{2,}\"`).\n",
        "   - Trim whitespace with `strip()` before checking.\n",
        "   - Use **full** matching (not partial).\n",
        "3. **Normalize phone numbers:** remove all non-digits (e.g., with `re.sub(r\"\\D\", \"\", raw)`).\n",
        "   - If the result has **≥ 10 digits**, keep the **last 10 digits**.\n",
        "   - Otherwise, return an **empty string** (`\"\"`).\n",
        "4. **Filter rows:** keep **only** rows with a valid email.\n",
        "5. **Deduplicate:** remove duplicates by **email** using **case-insensitive** comparison (e.g., `email.casefold()`). **Keep the first occurrence** and drop later duplicates.\n",
        "6. **Output CSV:** write to `contacts_clean.csv` with **columns exactly** `name,email,phone` (UTF-8).\n",
        "7. **Preserve input order:** the order of rows in `contacts_clean.csv` must match the **first appearance** order from the input file. **Do not sort** the rows.\n",
        "\n",
        "**Grading rubric (1.5 pts):**\n",
        "\n",
        "- (0.4) File read/write via `pathlib` + graceful `FileNotFoundError` handling\n",
        "- (0.5) Correct email regex validation + filtering\n",
        "- (0.4) Phone normalization + case-insensitive de-dup (keep first)\n",
        "- (0.2) Clean code, clear names, minimal docstrings/comments\n"
      ]
    },
    {
      "cell_type": "code",
      "execution_count": 1,
      "id": "gO9xaHmKNlax",
      "metadata": {
        "id": "gO9xaHmKNlax"
      },
      "outputs": [
        {
          "name": "stderr",
          "output_type": "stream",
          "text": [
            ".."
          ]
        },
        {
          "name": "stderr",
          "output_type": "stream",
          "text": [
            ".\n",
            "----------------------------------------------------------------------\n",
            "Ran 3 tests in 0.016s\n",
            "\n",
            "OK\n"
          ]
        },
        {
          "name": "stdout",
          "output_type": "stream",
          "text": [
            "File not found: does_not_exist.txt\n"
          ]
        }
      ],
      "source": [
        "# Write your answer here\n",
        "import unittest\n",
        "from pathlib import Path\n",
        "import csv\n",
        "import q1_crm_cleanup as crm\n",
        "\n",
        "\n",
        "class TestCrmCleanupFileFlow(unittest.TestCase):\n",
        "    def setUp(self):\n",
        "        self.tmp_dir = Path(\".\").resolve()\n",
        "        self.input_path = self.tmp_dir / \"contacts_raw.txt\"\n",
        "        self.output_path = self.tmp_dir / \"contacts_clean.csv\"\n",
        "\n",
        "        sample = (\n",
        "            \"Alice, alice@example.com, (214) 555-1212\\n\"\n",
        "            \"Bob, bob@example.com, 972-777-8888\\n\"\n",
        "            \"Bad, bad-email, 111-222-3333\\n\"\n",
        "            \"Dup, ALICE@EXAMPLE.COM, 999-999-9999\\n\"\n",
        "            \"NoPhone, nop@school.com,\\n\"\n",
        "        )\n",
        "        self.input_path.write_text(sample, encoding=\"utf-8\")\n",
        "\n",
        "    def tearDown(self):\n",
        "        # clean up files if they exist\n",
        "        if self.input_path.exists():\n",
        "            self.input_path.unlink()\n",
        "        if self.output_path.exists():\n",
        "            self.output_path.unlink()\n",
        "\n",
        "    def test_parse_contacts_from_file_ok(self):\n",
        "        rows = crm.parse_contacts_from_file(str(self.input_path))\n",
        "        \n",
        "        expected = [\n",
        "            {\"name\": \"Alice\", \"email\": \"alice@example.com\", \"phone\": \"2145551212\"},\n",
        "            {\"name\": \"Bob\", \"email\": \"bob@example.com\", \"phone\": \"9727778888\"},\n",
        "            {\"name\": \"NoPhone\", \"email\": \"nop@school.com\", \"phone\": \"\"},\n",
        "        ]\n",
        "        self.assertEqual(rows, expected)\n",
        "\n",
        "    def test_parse_contacts_from_file_missing(self):\n",
        "        missing_path = \"does_not_exist.txt\"\n",
        "        rows = crm.parse_contacts_from_file(missing_path)\n",
        "        self.assertEqual(rows, [])  # should not crash and return empty\n",
        "\n",
        "    def test_write_contacts_csv(self):\n",
        "        rows = [\n",
        "            {\"name\": \"Alice\", \"email\": \"alice@example.com\", \"phone\": \"2145551212\"},\n",
        "            {\"name\": \"Bob\", \"email\": \"bob@example.com\", \"phone\": \"9727778888\"},\n",
        "            {\"name\": \"NoPhone\", \"email\": \"nop@school.com\", \"phone\": \"\"},\n",
        "        ]\n",
        "        crm.write_contacts_csv(rows, str(self.output_path))\n",
        "\n",
        "        # check file \n",
        "        self.assertTrue(self.output_path.exists())\n",
        "\n",
        "        \n",
        "        with self.output_path.open(\"r\", encoding=\"utf-8\", newline=\"\") as f:\n",
        "            reader = csv.reader(f)\n",
        "            rows_read = list(reader)\n",
        "\n",
        "        self.assertEqual(rows_read[0], [\"name\", \"email\", \"phone\"])\n",
        "        # remaining rows must match in order\n",
        "        self.assertEqual(\n",
        "            rows_read[1:],\n",
        "            [\n",
        "                [\"Alice\", \"alice@example.com\", \"2145551212\"],\n",
        "                [\"Bob\", \"bob@example.com\", \"9727778888\"],\n",
        "                [\"NoPhone\", \"nop@school.com\", \"\"],\n",
        "            ],\n",
        "        )\n",
        "\n",
        "if __name__ == \"__main__\":\n",
        "    unittest.main(argv=[\"first-arg-is-ignored\"], exit=False)\n",
        "\n",
        "\n"
      ]
    },
    {
      "cell_type": "markdown",
      "id": "258c5b04",
      "metadata": {
        "id": "258c5b04"
      },
      "source": [
        "## Q2 (1.5 pts) — Unit testing with `unittest`\n",
        "\n",
        "Create tests in `test_crm_cleanup.py` that cover at least:\n",
        "\n",
        "1. **Email validation**: valid/invalid variations.\n",
        "2. **Phone normalization**: parentheses, dashes, spaces, country code; too-short cases.\n",
        "3. **Parsing**: from a small multi-line string (not from a file), assert the exact structured rows (name/email/phone).\n",
        "4. **De-duplication**: demonstrate that a case-variant duplicate email is dropped (first occurrence kept).\n"
      ]
    },
    {
      "cell_type": "code",
      "execution_count": 1,
      "id": "_M18cJw2NqZm",
      "metadata": {
        "id": "_M18cJw2NqZm"
      },
      "outputs": [
        {
          "name": "stderr",
          "output_type": "stream",
          "text": [
            "....\n",
            "----------------------------------------------------------------------\n",
            "Ran 4 tests in 0.004s\n",
            "\n",
            "OK\n"
          ]
        }
      ],
      "source": [
        "# Write your answer here\n",
        "import unittest\n",
        "import q2_crm_cleanup as crm\n",
        "\n",
        "\n",
        "\n",
        "class TestCrmCleanup(unittest.TestCase):\n",
        "    def test_email_validation(self):\n",
        "        self.assertEqual(crm.validate_email(\"test@example.com\"), \"test@example.com\")\n",
        "        self.assertEqual(crm.validate_email(\" user+tag@domain.co.uk \"), \"user+tag@domain.co.uk\")\n",
        "        self.assertIsNone(crm.validate_email(\"bad-email\"))\n",
        "        self.assertIsNone(crm.validate_email(\"user@domain\"))\n",
        "        self.assertIsNone(crm.validate_email(\"user@domain.c\"))\n",
        "        self.assertIsNone(crm.validate_email(\"user@domain.com extra\"))\n",
        "\n",
        "    def test_phone_normalization(self):\n",
        "        self.assertEqual(crm.normalize_phone(\"(214) 555-1212\"), \"2145551212\")\n",
        "        self.assertEqual(crm.normalize_phone(\"214-555-1212\"), \"2145551212\")\n",
        "        self.assertEqual(crm.normalize_phone(\"214 555 1212\"), \"2145551212\")\n",
        "        self.assertEqual(crm.normalize_phone(\"+1 (214) 555-1212\"), \"2145551212\")\n",
        "        self.assertEqual(crm.normalize_phone(\"001-214-555-1212\"), \"2145551212\")\n",
        "        self.assertEqual(crm.normalize_phone(\"123456789\"), \"\")\n",
        "        self.assertEqual(crm.normalize_phone(\"\"), \"\")\n",
        "\n",
        "    def test_parsing_from_string(self):\n",
        "        text = (\n",
        "            \"Alice, alice@example.com, (214) 555-1212\\n\"\n",
        "            \"Bob, bob@example.com, 972-777-8888\\n\"\n",
        "            \"Bad, bad-email, 111-222-3333\\n\"\n",
        "        )\n",
        "        rows = crm.parse_contacts_from_string(text)\n",
        "        expected = [\n",
        "            {\"name\": \"Alice\", \"email\": \"alice@example.com\", \"phone\": \"2145551212\"},\n",
        "            {\"name\": \"Bob\", \"email\": \"bob@example.com\", \"phone\": \"9727778888\"},\n",
        "        ]\n",
        "        self.assertEqual(rows, expected)\n",
        "\n",
        "    def test_deduplication_case_insensitive(self):\n",
        "        rows = [\n",
        "            {\"name\": \"Sam\", \"email\": \"sam@example.com\", \"phone\": \"2145551212\"},\n",
        "            {\"name\": \"SAM DUP\", \"email\": \"SAM@example.com\", \"phone\": \"9727778888\"},\n",
        "            {\"name\": \"Other\", \"email\": \"other@example.com\", \"phone\": \"4690001111\"},\n",
        "        ]\n",
        "        deduped = crm.deduplicate_contacts(rows)\n",
        "        self.assertEqual(len(deduped), 2)\n",
        "        emails = [r[\"email\"] for r in deduped]\n",
        "        self.assertIn(\"sam@example.com\", emails)\n",
        "        self.assertIn(\"other@example.com\", emails)\n",
        "        self.assertNotIn(\"SAM@example.com\", emails)\n",
        "\n",
        "\n",
        "if __name__ == \"__main__\":\n",
        "    unittest.main(argv=[\"first-arg-is-ignored\"], exit=False)\n",
        "\n",
        "\n",
        "\n"
      ]
    },
    {
      "cell_type": "markdown",
      "id": "f38af38b",
      "metadata": {
        "id": "f38af38b"
      },
      "source": [
        "## Grading rubric (total 3 pts)\n",
        "\n",
        "- **Q1 (1.5 pts)**\n",
        "  - (0.4) File I/O with `pathlib` + graceful `FileNotFoundError` handling\n",
        "  - (0.5) Email validation (regex + strip + full match) and filtering\n",
        "  - (0.4) Phone normalization and **case-insensitive** de-duplication (keep first)\n",
        "  - (0.2) Code clarity (names, minimal docstrings/comments)\n",
        "- **Q2 (1.5 pts)**\n",
        "  - (0.6) Meaningful coverage for email/phone functions (valid & invalid)\n",
        "  - (0.6) Parsing & de-dup tests that assert exact expected rows\n",
        "  - (0.3) Standard `unittest` structure and readable test names\n"
      ]
    }
  ],
  "metadata": {
    "colab": {
      "provenance": []
    },
    "kernelspec": {
      "display_name": "base",
      "language": "python",
      "name": "python3"
    },
    "language_info": {
      "codemirror_mode": {
        "name": "ipython",
        "version": 3
      },
      "file_extension": ".py",
      "mimetype": "text/x-python",
      "name": "python",
      "nbconvert_exporter": "python",
      "pygments_lexer": "ipython3",
      "version": "3.13.5"
    }
  },
  "nbformat": 4,
  "nbformat_minor": 5
}
