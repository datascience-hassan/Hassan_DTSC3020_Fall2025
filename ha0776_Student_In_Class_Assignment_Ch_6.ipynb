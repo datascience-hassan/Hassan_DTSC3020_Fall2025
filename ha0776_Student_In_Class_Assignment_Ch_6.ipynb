{
  "cells": [
    {
      "cell_type": "markdown",
      "metadata": {
        "id": "p337feJZG6g0"
      },
      "source": [
        "### ✅ Final Class Exercise: Library Borrowing (using key-value)\n",
        "\n",
        "You are given a dictionary that shows how many books each student has borrowed. Write a Python program to:\n",
        "\n",
        "1.  Print the names of students who borrowed more than 2 books.\n",
        "2.  calculate the total number of borrowed books.\n"
      ]
    },
    {
      "cell_type": "code",
      "execution_count": 2,
      "metadata": {
        "id": "OibWnbqOG_cX"
      },
      "outputs": [
        {
          "name": "stdout",
          "output_type": "stream",
          "text": [
            "Sara\n",
            "Lina\n",
            "Total number of borrowed books: 10\n"
          ]
        }
      ],
      "source": [
        "borrowed_books = {\n",
        "    'Ali': 1,\n",
        "    'Sara': 3,\n",
        "    'Reza': 0,\n",
        "    'Lina': 4,\n",
        "    'Omid': 2\n",
        "}\n",
        "\n",
        "# write your answer here part 1 \n",
        "for student, books in borrowed_books.items():\n",
        "    if books > 2:\n",
        "        print(student)\n",
        "        \n",
        "# write your answer here part 2\n",
        "total_borrowed_books = sum(borrowed_books.values())\n",
        "print(f\"Total number of borrowed books: {total_borrowed_books}\")\n",
        "\n"
      ]
    }
  ],
  "metadata": {
    "colab": {
      "provenance": []
    },
    "kernelspec": {
      "display_name": "base",
      "language": "python",
      "name": "python3"
    },
    "language_info": {
      "codemirror_mode": {
        "name": "ipython",
        "version": 3
      },
      "file_extension": ".py",
      "mimetype": "text/x-python",
      "name": "python",
      "nbconvert_exporter": "python",
      "pygments_lexer": "ipython3",
      "version": "3.13.5"
    }
  },
  "nbformat": 4,
  "nbformat_minor": 0
}
