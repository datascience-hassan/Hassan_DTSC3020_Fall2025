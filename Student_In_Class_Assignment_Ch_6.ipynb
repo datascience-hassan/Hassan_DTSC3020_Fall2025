{
  "cells": [
    {
      "cell_type": "markdown",
      "metadata": {
        "id": "p337feJZG6g0"
      },
      "source": [
        "### ✅ Final Class Exercise: Library Borrowing (using key-value)\n",
        "\n",
        "You are given a dictionary that shows how many books each student has borrowed. Write a Python program to:\n",
        "\n",
        "1.  Print the names of students who borrowed more than 2 books.\n",
        "2.  calculate the total number of borrowed books.\n"
      ]
    },
    {
      "cell_type": "code",
      "execution_count": null,
      "metadata": {
        "id": "OibWnbqOG_cX"
      },
      "outputs": [],
      "source": [
        "borrowed_books = {\n",
        "    'Ali': 1,\n",
        "    'Sara': 3,\n",
        "    'Reza': 0,\n",
        "    'Lina': 4,\n",
        "    'Omid': 2\n",
        "}\n",
        "\n",
        "# write your answer here part 1 \n",
        "\n",
        "\n",
        "\n",
        "\n",
        "\n",
        "\n",
        "\n",
        "# write your answer here part 2\n",
        "\n",
        "\n"
      ]
    }
  ],
  "metadata": {
    "colab": {
      "provenance": []
    },
    "kernelspec": {
      "display_name": "Python 3",
      "name": "python3"
    },
    "language_info": {
      "name": "python"
    }
  },
  "nbformat": 4,
  "nbformat_minor": 0
}
