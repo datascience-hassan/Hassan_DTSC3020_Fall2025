{
  "cells": [
    {
      "cell_type": "markdown",
      "id": "-astqhkqk-sA",
      "metadata": {
        "id": "-astqhkqk-sA"
      },
      "source": [
        "#DTSC 3020 – Assignment 4\n",
        "Chapter 6 – Dictionaries\n",
        "\n",
        "Total points: 4\n",
        "\n",
        "Deadline: Friday at midnight\n",
        "\n",
        "Submission: Upload your Python file to your GitHub repository and submit only your GitHub link.\n",
        "\n",
        "Expectations\n",
        "Write complete answers and run all cells before submission.\n",
        "Keep the notebook clean (no unnecessary code).\n"
      ]
    },
    {
      "cell_type": "markdown",
      "id": "Iu8c7M_Rk9AH",
      "metadata": {
        "id": "Iu8c7M_Rk9AH"
      },
      "source": [
        "Exercise 1: Find and print the student with the lowest grade.\n"
      ]
    },
    {
      "cell_type": "code",
      "execution_count": null,
      "id": "qL5VY2kIk4Nc",
      "metadata": {
        "id": "qL5VY2kIk4Nc"
      },
      "outputs": [
        {
          "name": "stdout",
          "output_type": "stream",
          "text": [
            "Student with the lowest grade: Omid\n"
          ]
        }
      ],
      "source": [
        "grades = {\n",
        "    'Ali': 17,\n",
        "    'Sara': 19,\n",
        "    'Reza': 18.5,\n",
        "    'Lina': 20,\n",
        "    'Omid': 16\n",
        "}\n",
        "\n",
        "lowest_grade = min(grades.values())\n",
        "\n",
        "for student, grade in grades.items():\n",
        "    if grade == lowest_grade:\n",
        "        print(f\"Student with the lowest grade is : {student}\")\n",
        "\n",
        "\n",
        "\n"
      ]
    },
    {
      "cell_type": "markdown",
      "id": "y880yRq6k58C",
      "metadata": {
        "id": "y880yRq6k58C"
      },
      "source": [
        "Exercise 2: print names of students who registered for any course containing \"Data\"\n"
      ]
    },
    {
      "cell_type": "code",
      "execution_count": 31,
      "id": "tFfys48Iodlr",
      "metadata": {
        "id": "tFfys48Iodlr"
      },
      "outputs": [
        {
          "name": "stdout",
          "output_type": "stream",
          "text": [
            "Sara\n",
            "Reza\n"
          ]
        }
      ],
      "source": [
        "courses = {\n",
        "    'Ali': ['Python', 'Math'],\n",
        "    'Sara': ['Data Mining', 'Chemistry'],\n",
        "    'Reza': ['Machine Learning', 'Data Science'],\n",
        "    'Lina': ['English', 'History']\n",
        "}\n",
        "\n",
        "# Write your code here:\n",
        "for student, courses in courses.items():\n",
        "    for course in courses:\n",
        "        if 'Data' in course:\n",
        "            print(student)\n",
        "\n",
        "\n"
      ]
    },
    {
      "cell_type": "markdown",
      "id": "nUG5vQjeoWWE",
      "metadata": {
        "id": "nUG5vQjeoWWE"
      },
      "source": [
        "Exercise 3: Print titles of books that are not available.\n"
      ]
    },
    {
      "cell_type": "code",
      "execution_count": 8,
      "id": "2kFBzKyloecs",
      "metadata": {
        "id": "2kFBzKyloecs"
      },
      "outputs": [
        {
          "name": "stdout",
          "output_type": "stream",
          "text": [
            "AI Basics\n",
            "Math Advanced\n"
          ]
        }
      ],
      "source": [
        "library = {\n",
        "    'Python101': {'pages': 180, 'available': True},\n",
        "    'AI Basics': {'pages': 130, 'available': False},\n",
        "    'Math Advanced': {'pages': 200, 'available': False},\n",
        "    'Statistics': {'pages': 175, 'available': True}\n",
        "}\n",
        "\n",
        "# Write your code here:\n",
        "for book, details in library.items():\n",
        "    if not details['available']:\n",
        "        print(book)\n",
        "\n",
        "\n",
        "\n"
      ]
    },
    {
      "cell_type": "markdown",
      "id": "HA_jFJ3Ro2FJ",
      "metadata": {
        "id": "HA_jFJ3Ro2FJ"
      },
      "source": [
        "Exercise 4: Print names of students who are registered for more than 2 courses.\n"
      ]
    },
    {
      "cell_type": "code",
      "execution_count": 9,
      "id": "vYXKqs-jk43C",
      "metadata": {
        "id": "vYXKqs-jk43C"
      },
      "outputs": [
        {
          "name": "stdout",
          "output_type": "stream",
          "text": [
            "Sara\n",
            "Lina\n"
          ]
        }
      ],
      "source": [
        "\n",
        "registrations = {\n",
        "    'Ali': ['Python', 'Math'],\n",
        "    'Sara': ['Biology', 'Chemistry', 'Math'],\n",
        "    'Reza': ['English'],\n",
        "    'Lina': ['History', 'Physics', 'Geography', 'Art']\n",
        "}\n",
        "\n",
        "# Write your code here:\n",
        "for student, course_list in registrations.items():\n",
        "    if len(course_list) > 2:\n",
        "        print(student)"
      ]
    },
    {
      "cell_type": "markdown",
      "id": "ZR7nhc-BpHvx",
      "metadata": {
        "id": "ZR7nhc-BpHvx"
      },
      "source": [
        "Exercise 5: Calculate and print the average grade of the class.\n"
      ]
    },
    {
      "cell_type": "code",
      "execution_count": 32,
      "id": "6Xbt2zE8pGNJ",
      "metadata": {
        "id": "6Xbt2zE8pGNJ"
      },
      "outputs": [
        {
          "name": "stdout",
          "output_type": "stream",
          "text": [
            "Average grade of the class: 18.10\n"
          ]
        }
      ],
      "source": [
        "grades = {\n",
        "    'Ali': 17,\n",
        "    'Sara': 19,\n",
        "    'Reza': 18.5,\n",
        "    'Lina': 20,\n",
        "    'Omid': 16\n",
        "}\n",
        "\n",
        "# Write your code here\n",
        "total_grade = sum(grades.values())\n",
        "number_of_students = len(grades)\n",
        "average_grade = total_grade / number_of_students\n",
        "print(f\"Average grade of the class: {average_grade:.2f}\")\n",
        "\n",
        "    \n"
      ]
    },
    {
      "cell_type": "markdown",
      "id": "U33R5aWYpev_",
      "metadata": {
        "id": "U33R5aWYpev_"
      },
      "source": [
        "Exercise 6: Count and print the number of students registered for \"Python\".\n"
      ]
    },
    {
      "cell_type": "code",
      "execution_count": null,
      "id": "Wcjq96gVpliQ",
      "metadata": {
        "id": "Wcjq96gVpliQ"
      },
      "outputs": [
        {
          "name": "stdout",
          "output_type": "stream",
          "text": [
            "Number of students registered for Python: 3\n"
          ]
        }
      ],
      "source": [
        "courses = {\n",
        "    'Ali': ['Python', 'Math'],\n",
        "    'Sara': ['Biology', 'Chemistry'],\n",
        "    'Reza': ['Python', 'AI'],\n",
        "    'Lina': ['English', 'History'],\n",
        "    'Omid': ['Python']\n",
        "}\n",
        "\n",
        "# Write your code here:\n",
        "count = 0\n",
        "for course_list in courses.values():\n",
        "    if 'Python' in course_list:\n",
        "        count += 1\n",
        "print(f\"Number of students registered for Python is : {count}\")\n"
      ]
    },
    {
      "cell_type": "markdown",
      "id": "2tAWS80-p75f",
      "metadata": {
        "id": "2tAWS80-p75f"
      },
      "source": [
        "Exercise 7: Print titles of books with more than 200 pages.\n"
      ]
    },
    {
      "cell_type": "code",
      "execution_count": null,
      "id": "OxMTnraWp8Pf",
      "metadata": {
        "id": "OxMTnraWp8Pf"
      },
      "outputs": [
        {
          "name": "stdout",
          "output_type": "stream",
          "text": [
            "AI Basics\n",
            "Math Advanced\n",
            "Data Science\n"
          ]
        }
      ],
      "source": [
        "book_pages = {\n",
        "    'Python101': 180,\n",
        "    'AI Basics': 230,\n",
        "    'Math Advanced': 250,\n",
        "    'Statistics': 190,\n",
        "    'Data Science': 300\n",
        "}\n",
        "\n",
        "\n",
        "# write your answer here\n",
        "for book, pages in book_pages.items():\n",
        "    if pages > 200:\n",
        "        print(book)\n",
        "\n"
      ]
    },
    {
      "cell_type": "markdown",
      "id": "DTw2a77lqOL1",
      "metadata": {
        "id": "DTw2a77lqOL1"
      },
      "source": [
        "Exercise 8: Print each student's name and number of registered courses.\n"
      ]
    },
    {
      "cell_type": "code",
      "execution_count": 33,
      "id": "hFURuXPTqL8Y",
      "metadata": {
        "id": "hFURuXPTqL8Y"
      },
      "outputs": [
        {
          "name": "stdout",
          "output_type": "stream",
          "text": [
            "Ali has 2 registered courses.\n",
            "Sara has 2 registered courses.\n",
            "Reza has 2 registered courses.\n",
            "Lina has 2 registered courses.\n",
            "Omid has 1 registered courses.\n"
          ]
        }
      ],
      "source": [
        "courses = {\n",
        "    'Ali': ['Python', 'Math'],\n",
        "    'Sara': ['Biology', 'Chemistry'],\n",
        "    'Reza': ['Python', 'AI'],\n",
        "    'Lina': ['English', 'History'],\n",
        "    'Omid': ['Python']\n",
        "}\n",
        "\n",
        "# Write your code here:\n",
        "for student, course_list in courses.items():\n",
        "    number_of_courses = len(course_list)\n",
        "    print(f\"{student} has {number_of_courses} registered courses.\")"
      ]
    },
    {
      "cell_type": "markdown",
      "id": "3lHxe4qMqLm1",
      "metadata": {
        "id": "3lHxe4qMqLm1"
      },
      "source": []
    }
  ],
  "metadata": {
    "colab": {
      "provenance": []
    },
    "kernelspec": {
      "display_name": "base",
      "language": "python",
      "name": "python3"
    },
    "language_info": {
      "codemirror_mode": {
        "name": "ipython",
        "version": 3
      },
      "file_extension": ".py",
      "mimetype": "text/x-python",
      "name": "python",
      "nbconvert_exporter": "python",
      "pygments_lexer": "ipython3",
      "version": "3.13.5"
    }
  },
  "nbformat": 4,
  "nbformat_minor": 5
}
