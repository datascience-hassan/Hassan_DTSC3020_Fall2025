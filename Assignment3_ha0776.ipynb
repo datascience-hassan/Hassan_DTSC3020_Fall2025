{
  "cells": [
    {
      "cell_type": "markdown",
      "id": "nevCG4Qs0b8R",
      "metadata": {
        "id": "nevCG4Qs0b8R"
      },
      "source": [
        "# DTSC 3020 – Assignment 3\n",
        "\n",
        "This exercise focuses on **if statements and conditional logic** in Python and is designed to help students practice decision-making structures.\n",
        "\n",
        "**Total points:** 5  \n",
        "**Deadline:** Friday at midnight  \n",
        "**Submission:** Upload your Python file to your GitHub repository and submit **only your GitHub link**.\n",
        "\n",
        "### Expectations\n",
        "\n",
        "- Write complete answers and run all cells before submission.\n",
        "- Keep the notebook clean (no unnecessary code).\n"
      ]
    },
    {
      "cell_type": "markdown",
      "id": "gfumj0DY0b8f",
      "metadata": {
        "id": "gfumj0DY0b8f"
      },
      "source": [
        "## Question 1 – Movie Ticket System\n",
        "\n",
        "Write a Python code that checks the price of a movie ticket.\n",
        "If the age is between 0 and 11 it is Child, if between 12 and 17 it is Teen, and if 18 or older it is Adult.\n",
        "Print the category and the ticket price (you choose the price).\n",
        "Run the program with age = 16.\n"
      ]
    },
    {
      "cell_type": "code",
      "execution_count": null,
      "id": "67TGDT6w0b8k",
      "metadata": {
        "id": "67TGDT6w0b8k"
      },
      "outputs": [
        {
          "name": "stdout",
          "output_type": "stream",
          "text": [
            "Teen\n",
            "Ticket price: $11.00\n"
          ]
        }
      ],
      "source": [
        "\n",
        "# write your answer here\n",
        "\n",
        "age = 16\n",
        "if age <= 11:\n",
        "    print(\"Child\")\n",
        "    print(\"Ticket price: $7.50\")\n",
        "elif age >= 12 and age <= 17:\n",
        "    print(\"Teen\")\n",
        "    print(\"Ticket price: $11.00\")\n",
        "else:\n",
        "    print(\"Adult\")    \n"
      ]
    },
    {
      "cell_type": "markdown",
      "id": "_tUFNVKT0b8r",
      "metadata": {
        "id": "_tUFNVKT0b8r"
      },
      "source": [
        "## Question 2 – Online Store Discount\n",
        "\n",
        "Write a Python code that applies a discount based on the shopping cart total.\n",
        "If the total is less than 50 dollars there is no discount, if the total is between 50 and 99 dollars there is a 10 percent discount, and if the total is 100 dollars or more there is a 20 percent discount.\n",
        "Print the original total, the discount, and the final price.\n",
        "Run the program with cart_total = 85.\n"
      ]
    },
    {
      "cell_type": "code",
      "execution_count": 48,
      "id": "yTtX719o0b8v",
      "metadata": {
        "id": "yTtX719o0b8v"
      },
      "outputs": [
        {
          "name": "stdout",
          "output_type": "stream",
          "text": [
            "Discount: 10%\n",
            "Original total: 85\n",
            "Discount amount: 8.5\n",
            "Final price: 76.5\n"
          ]
        }
      ],
      "source": [
        "# write your answer here \n",
        "\n",
        "cart_total = 85\n",
        "\n",
        "if cart_total < 50:\n",
        "    discount_amount = 0\n",
        "    print(\"No discount\")\n",
        "elif cart_total <= 99:\n",
        "    discount_amount = cart_total * 0.10\n",
        "    print(\"Discount: 10%\")\n",
        "else:\n",
        "    discount_amount = cart_total * 0.20\n",
        "    print(\"Discount: 20%\")\n",
        "\n",
        "final_price = cart_total - discount_amount\n",
        "\n",
        "print(\"Original total:\", cart_total)\n",
        "print(\"Discount amount:\", discount_amount)\n",
        "print(\"Final price:\", final_price)\n",
        "\n",
        "    \n",
        "    \n",
        "\n",
        "    \n",
        "       "
      ]
    },
    {
      "cell_type": "markdown",
      "id": "uOUYYC870b8x",
      "metadata": {
        "id": "uOUYYC870b8x"
      },
      "source": [
        "## Question 3 – Exam Grading\n",
        "\n",
        "Write a Python code that gives a letter grade for a score.\n",
        "If the score is between 90 and 100 the grade is A, if between 80 and 89 the grade is B, if between 70 and 79 the grade is C, if between 60 and 69 the grade is D, and if below 60 the grade is F.\n",
        "Print the grade and a short message.\n",
        "Run the program with score = 73.\n"
      ]
    },
    {
      "cell_type": "code",
      "execution_count": 28,
      "id": "HDtf_YLG0b8y",
      "metadata": {
        "id": "HDtf_YLG0b8y"
      },
      "outputs": [
        {
          "name": "stdout",
          "output_type": "stream",
          "text": [
            "Grade: C\n",
            "Congratulations! You've earned a C.\n"
          ]
        }
      ],
      "source": [
        "# write your answer here\n",
        "score = 73\n",
        "if score >= 90 and score <= 100:\n",
        "    print(\"Grade: A\")\n",
        "    print(\"Congratulations! You've earned an A.\")\n",
        "elif score >= 80 and score <= 89:\n",
        "    print(\"Grade: B\")\n",
        "    print(\"Congratulations! You've earned a B.\")\n",
        "elif score >= 70 and score <= 79:\n",
        "    print(\"Grade: C\")\n",
        "    print(\"Congratulations! You've earned a C.\")\n",
        "elif score >= 60 and score <= 69:\n",
        "    print(\"Grade: D\")\n",
        "    print(\"Congratulations! You've earned a D.\")\n",
        "else:\n",
        "    print(\"Grade: F\")\n",
        "    print(\"Sorry! You've earned a F.\")\n",
        "                 \n",
        "\n"
      ]
    },
    {
      "cell_type": "markdown",
      "id": "ZCIKM6Xs0b80",
      "metadata": {
        "id": "ZCIKM6Xs0b80"
      },
      "source": [
        "## Question 4 – Parking Fee\n",
        "\n",
        "Write a Python code that calculates parking fees.\n",
        "If the car is parked for 0 to 2 hours the parking is free, if the car is parked for 3 to 5 hours the fee is 3 dollars per hour, and if the car is parked for more than 5 hours the fee is 3 dollars per hour for the first three hours after free and then 5 dollars per hour for the rest.\n",
        "Print the number of hours and the total fee.\n",
        "Run the program with hours = 6.\n"
      ]
    },
    {
      "cell_type": "code",
      "execution_count": 2,
      "id": "g3a_sPo50b81",
      "metadata": {
        "id": "g3a_sPo50b81"
      },
      "outputs": [
        {
          "name": "stdout",
          "output_type": "stream",
          "text": [
            "Total_fee: 14\n"
          ]
        }
      ],
      "source": [
        "# write your answer here\n",
        "\n",
        "hours = 6\n",
        "if hours <= 2:\n",
        "    print(\"Total_fee: $0\")\n",
        "    print(\"Free parking\")\n",
        "elif hours >= 3 and hours <= 5:\n",
        "    total_fee = (hours -2) * 3\n",
        "    print(\"Total_fee:\", total_fee)\n",
        "else:\n",
        "    total_fee = 3 * 3 + (hours - 5) * 5\n",
        "    print(\"Total_fee:\", total_fee)\n",
        "    "
      ]
    },
    {
      "cell_type": "markdown",
      "id": "XBf0-SPz0b83",
      "metadata": {
        "id": "XBf0-SPz0b83"
      },
      "source": [
        "## Question 5 – Cafeteria Menu\n",
        "\n",
        "Write a Python code that creates a list with three food items.\n",
        "Check if an order is in the list.\n",
        "If the item is in the list print a confirmation, and if the item is not in the list print a polite message.\n",
        "Run the program with menu = ['pizza','salad','sandwich'] and order = 'salad'.\n"
      ]
    },
    {
      "cell_type": "code",
      "execution_count": 12,
      "id": "y52UEMoX0b85",
      "metadata": {
        "id": "y52UEMoX0b85"
      },
      "outputs": [
        {
          "name": "stdout",
          "output_type": "stream",
          "text": [
            "Confirmed: Order received!\n"
          ]
        }
      ],
      "source": [
        "# write your answer here\n",
        "order = 'salad'\n",
        "Menu = ['pizza','salad','sandwich'] \n",
        "if order in Menu:\n",
        "    print(\"Confirmed: Order received!\")\n",
        "else:\n",
        "    print(\"Polite message: Order not found in menu.\")\n",
        "        "
      ]
    },
    {
      "cell_type": "markdown",
      "id": "-60rL71F0b86",
      "metadata": {
        "id": "-60rL71F0b86"
      },
      "source": [
        "## Question 6 – Job Application Filter\n",
        "\n",
        "Write a Python code that checks if a person is eligible for a job.\n",
        "If the person is older than 22 and has more than 2 years of experience print Accepted.\n",
        "Otherwise print Not Accepted.\n",
        "Run the program with age = 23 and experience = 1.\n"
      ]
    },
    {
      "cell_type": "code",
      "execution_count": 3,
      "id": "-h964CqY0b88",
      "metadata": {
        "id": "-h964CqY0b88"
      },
      "outputs": [
        {
          "name": "stdout",
          "output_type": "stream",
          "text": [
            "Not Accepted: Job application rejected!\n"
          ]
        }
      ],
      "source": [
        "# write your answer here\n",
        "age = 23\n",
        "experience = 1\n",
        "if age >= 22 and experience >= 2:\n",
        "    print(\"Accepted: Job application received!\")\n",
        "else:\n",
        "    print(\"Not Accepted: Job application rejected!\")"
      ]
    },
    {
      "cell_type": "markdown",
      "id": "MOMMxnuE0b8-",
      "metadata": {
        "id": "MOMMxnuE0b8-"
      },
      "source": [
        "## Question 7 – Clothing Advice\n",
        "\n",
        "Write a Python code that suggests clothing based on the temperature.\n",
        "If the temperature is below 10 print Coat and gloves, if the temperature is between 10 and 19 print Jacket, and if the temperature is 20 or more print T-shirt.\n",
        "Run the program with temperature = 15.\n"
      ]
    },
    {
      "cell_type": "code",
      "execution_count": 6,
      "id": "V6RtrCOa0b8_",
      "metadata": {
        "id": "V6RtrCOa0b8_"
      },
      "outputs": [
        {
          "name": "stdout",
          "output_type": "stream",
          "text": [
            "Jacket\n"
          ]
        }
      ],
      "source": [
        "# write your answer here\n",
        "temperature = 15\n",
        "if temperature < 10:\n",
        "    print(\"Coat and gloves\")\n",
        "elif temperature >= 10 and temperature <= 19:\n",
        "    print(\"Jacket\")\n",
        "else:\n",
        "    print(\"Invalid temperature!\")    \n"
      ]
    },
    {
      "cell_type": "markdown",
      "id": "R-i9Jzpn0b9A",
      "metadata": {
        "id": "R-i9Jzpn0b9A"
      },
      "source": [
        "## Question 8 – Loan Eligibility\n",
        "\n",
        "Write a Python code that checks loan eligibility.\n",
        "If the salary is at least 3000 and the credit score is at least 650 print Loan Approved, otherwise print Loan Denied.\n",
        "Run the program with salary = 3500 and credit_score = 640.\n"
      ]
    },
    {
      "cell_type": "code",
      "execution_count": 23,
      "id": "2M0s0bC40b9B",
      "metadata": {
        "id": "2M0s0bC40b9B"
      },
      "outputs": [
        {
          "name": "stdout",
          "output_type": "stream",
          "text": [
            "Loan Denied: You are not eligible for a loan.\n"
          ]
        }
      ],
      "source": [
        "# write your answer here\n",
        "salary = 3500\n",
        "credit_score = 640\n",
        "if salary >= 3000 and credit_score >= 650:\n",
        "    print(\"Loan Approved: You are eligible for a loan.\")\n",
        "else:\n",
        "    print(\"Loan Denied: You are not eligible for a loan.\")"
      ]
    },
    {
      "cell_type": "markdown",
      "id": "I0WmTyFv0b9D",
      "metadata": {
        "id": "I0WmTyFv0b9D"
      },
      "source": [
        "## Question 9 – Password Strength\n",
        "\n",
        "Write a Python code that checks if a password is strong, medium, or weak based on its length.\n",
        "If the password has fewer than 6 characters it is Weak, if it has 6 to 10 characters it is Medium, and if it has more than 10 characters it is Strong.\n",
        "Print the strength.\n",
        "Run the program with password = 'hello123'.\n"
      ]
    },
    {
      "cell_type": "code",
      "execution_count": 24,
      "id": "Jm8fu7ft0b9E",
      "metadata": {
        "id": "Jm8fu7ft0b9E"
      },
      "outputs": [
        {
          "name": "stdout",
          "output_type": "stream",
          "text": [
            "Medium: Password must have between 6 and 10 characters.\n"
          ]
        }
      ],
      "source": [
        "# write your answer here\n",
        "password = 'hello123'\n",
        "if len(password) < 6:\n",
        "    print(\"Weak: Password must have at least 6 characters.\")\n",
        "elif len(password) >= 6 and len(password) <= 10:\n",
        "    print(\"Medium: Password must have between 6 and 10 characters.\")\n",
        "else:\n",
        "    print(\"Strong: Password must have more than 10 characters.\")"
      ]
    },
    {
      "cell_type": "markdown",
      "id": "kgKSm4WB0b9F",
      "metadata": {
        "id": "kgKSm4WB0b9F"
      },
      "source": [
        "## Question 10 – Guest List Checker\n",
        "\n",
        "Write a Python code that creates a list with three invited guests.\n",
        "Define a variable for a guest name.\n",
        "Check if the guest name is in the list.\n",
        "If the guest is in the list print Welcome, and if the guest is not in the list print Not on the list.\n",
        "Run the program with guest = 'Sara'.\n"
      ]
    },
    {
      "cell_type": "code",
      "execution_count": 53,
      "id": "4pyiTbMT0b9G",
      "metadata": {
        "id": "4pyiTbMT0b9G"
      },
      "outputs": [
        {
          "name": "stdout",
          "output_type": "stream",
          "text": [
            "Welcome Sara, you are on the guest list.\n"
          ]
        }
      ],
      "source": [
        "# write your answer here\n",
        "guest = 'Sara'\n",
        "invited_guests = ['John', 'Emily', 'Sara']\n",
        "if guest in invited_guests:\n",
        "    print(f\"Welcome {guest}, you are on the guest list.\")\n",
        "else:\n",
        "    print(f\"Sorry {guest}, you are not on the guest list.\")"
      ]
    }
  ],
  "metadata": {
    "colab": {
      "provenance": []
    },
    "kernelspec": {
      "display_name": "base",
      "language": "python",
      "name": "python3"
    },
    "language_info": {
      "codemirror_mode": {
        "name": "ipython",
        "version": 3
      },
      "file_extension": ".py",
      "mimetype": "text/x-python",
      "name": "python",
      "nbconvert_exporter": "python",
      "pygments_lexer": "ipython3",
      "version": "3.13.5"
    }
  },
  "nbformat": 4,
  "nbformat_minor": 5
}
