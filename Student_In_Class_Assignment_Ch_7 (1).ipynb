{
  "cells": [
    {
      "cell_type": "markdown",
      "metadata": {
        "id": "t1xs1X02Owtz"
      },
      "source": [
        "#Write a Python program that simulates a self-checkout system.\\*\\*\n",
        "Use this price list: prices: apple= 1 , bread= 2.5 , milk=5 , egg= 6\n",
        "\n",
        "Program requirements:\n",
        "\n",
        "The program should repeatedly ask the user to enter an item name or enter \"pay\".\n",
        "\n",
        "• Valid inputs are the names of the **items above ** or the word \"pay\".\n",
        "\n",
        "If the entered item exists in the price list:\n",
        "\n",
        "• Add its price to the running total.\n",
        "\n",
        "• Print the message: \"Added , running total: $\".\n",
        "\n",
        "If the entered item does not exist in the price list:\n",
        "\n",
        "• Print \"Item not found\".\n",
        "\n",
        "If the user types \"pay\":\n",
        "\n",
        "• Stop asking for input.\n",
        "\n",
        "Show the following three values:\n",
        "\n",
        "**Subtotal: the sum of all valid items entered.**\n",
        "\n",
        "**Tax: 8% of the subtotal. (0.08 \\* total)**\n",
        "\n",
        "**Final total: subtotal + tax.**\n",
        "\n",
        "Run your program with this purchase list. For example, for one person whose purchase is:apple, pizza, bread, pay _italicised text_\n"
      ]
    },
    {
      "cell_type": "code",
      "execution_count": null,
      "metadata": {
        "id": "nTH6mvq1OqHP"
      },
      "outputs": [
        {
          "name": "stdout",
          "output_type": "stream",
          "text": [
            "Added, running total: $1\n",
            "Subtotal: $1\n",
            "Tax: $0.08\n",
            "Final total: $1.08\n",
            "Added, running total: $3.5\n",
            "Subtotal: $3.5\n",
            "Tax: $0.28\n",
            "Final total: $3.7800000000000002\n",
            "Added, running total: $9.5\n",
            "Subtotal: $9.5\n",
            "Tax: $0.76\n",
            "Final total: $10.26\n",
            "Added, running total: $14.5\n",
            "Subtotal: $14.5\n",
            "Tax: $1.16\n",
            "Final total: $15.66\n"
          ]
        }
      ],
      "source": [
        "# write your code here\n",
        "prices = {'apple': 1, 'bread': 2.5,'milk': 5, 'egg': 6}\n",
        "running_total = 0\n",
        "\n",
        "while True:\n",
        "    item = input(\"Enter an item name or 'pay' to finish: \")\n",
        "    if item == 'pay':\n",
        "        break\n",
        "    elif item in prices:\n",
        "        running_total += prices[item]\n",
        "        print(f\"Added, running total: ${running_total}\")\n",
        "    else:\n",
        "        print(\"Item not found\")\n",
        "        continue\n",
        "    \n",
        "    \n",
        "    \n",
        "    print(f\"Subtotal: ${running_total}\")\n",
        "    print(f\"Tax: ${running_total * 0.08}\")\n",
        "    print(f\"Final total: ${running_total + running_total * 0.08}\")\n",
        "    \n",
        "    \n",
        "        \n",
        "        \n",
        "        \n",
        "\n"
      ]
    }
  ],
  "metadata": {
    "colab": {
      "provenance": []
    },
    "kernelspec": {
      "display_name": "base",
      "language": "python",
      "name": "python3"
    },
    "language_info": {
      "codemirror_mode": {
        "name": "ipython",
        "version": 3
      },
      "file_extension": ".py",
      "mimetype": "text/x-python",
      "name": "python",
      "nbconvert_exporter": "python",
      "pygments_lexer": "ipython3",
      "version": "3.13.5"
    }
  },
  "nbformat": 4,
  "nbformat_minor": 0
}
